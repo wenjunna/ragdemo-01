{
 "cells": [
  {
   "cell_type": "code",
   "execution_count": 1,
   "id": "2c2df482-b6da-4f80-9e39-240abddd6018",
   "metadata": {},
   "outputs": [],
   "source": [
    "from es import ES\n",
    "from read_pdf import extract_text_from_pdf\n",
    "from rag import build_prompt, get_completion"
   ]
  },
  {
   "cell_type": "code",
   "execution_count": 2,
   "id": "e0a65b90-64f2-475a-a51a-6bb88ac7816c",
   "metadata": {},
   "outputs": [],
   "source": [
    "# filename = \"./data/InSAR变形监测方法与研究进展_朱建军.pdf\"\n",
    "# text_list = extract_text_from_pdf(filename=filename, min_line_length=10)"
   ]
  },
  {
   "cell_type": "code",
   "execution_count": 3,
   "id": "6620ab30-74f0-4733-9a41-7ce49f6bcaf0",
   "metadata": {},
   "outputs": [],
   "source": [
    "# 1、新建索引\n",
    "index_name = \"paper_db_cn\"\n",
    "es = ES(index_name=index_name)"
   ]
  },
  {
   "cell_type": "code",
   "execution_count": 4,
   "id": "826dbe3f-9b61-4304-807e-0f89ced10e74",
   "metadata": {},
   "outputs": [],
   "source": [
    "# 2、往索引里添加数据\n",
    "# es.add_data_to_es(text_list)"
   ]
  },
  {
   "cell_type": "code",
   "execution_count": 5,
   "id": "7e3394f4-406e-4458-b949-55aeb330eea7",
   "metadata": {},
   "outputs": [],
   "source": [
    "# 3、Prompt模版\n",
    "prompt_template = \"\"\"\n",
    "从数据库中检索的相关信息:\n",
    "__INFO__\n",
    "\n",
    "用户问：\n",
    "__QUERY__\n",
    "\n",
    "请用中文回答用户问题。\n",
    "\"\"\""
   ]
  },
  {
   "cell_type": "code",
   "execution_count": 6,
   "id": "e2b859e3-708d-49c0-97ba-dcab94da28fa",
   "metadata": {},
   "outputs": [
    {
     "name": "stderr",
     "output_type": "stream",
     "text": [
      "Building prefix dict from the default dictionary ...\n",
      "Loading model from cache /var/folders/37/d9g7vr4j50s4mcyf2k_04d2r0000gn/T/jieba.cache\n",
      "Loading model cost 0.692 seconds.\n",
      "Prefix dict has been built successfully.\n"
     ]
    },
    {
     "name": "stdout",
     "output_type": "stream",
     "text": [
      "keywords insar 哪些 用途 技术\n",
      "search_res {'took': 2, 'timed_out': False, '_shards': {'total': 1, 'successful': 1, 'skipped': 0, 'failed': 0}, 'hits': {'total': {'value': 127, 'relation': 'eq'}, 'max_score': 10.771847, 'hits': [{'_index': 'paper_db_cn', '_id': 'y8MaDZABa8Xp2iGRtTwe', '_score': 10.771847, '_source': {'keywords': 'insar 现状 技术', 'text': ' １\\u3000ＩｎＳＡＲ 技术与现状'}}, {'_index': 'paper_db_cn', '_id': 'McMaDZABa8Xp2iGRtTwe', '_score': 9.039635, '_source': {'keywords': 'insar 错判 误判 形变 瓶颈 推广 限制 应用 技术 甚至', 'text': ' ＩｎＳＡＲ 形变观 测 值 极 有 可 能 导 致 对 地 质 灾 害 的 误判甚至错判，这已经成为限制ＩｎＳＡＲ 技术应用 和推广的主要瓶颈之一。'}}, {'_index': 'paper_db_cn', '_id': 'NMMaDZABa8Xp2iGRtTwe', '_score': 7.4923735, '_source': {'keywords': '56 徐小波 insar 手段 及其 技术 研究', 'text': ' ［５６］\\u3000徐小波．多手段ＩｎＳＡＲ 技术研究及其在 同 震 、震 间 形 变 监'}}]}}\n"
     ]
    }
   ],
   "source": [
    "# 4、检索\n",
    "user_query = \"insar技术的用途有哪些？\"\n",
    "search_results = es.search(user_query, 3)"
   ]
  },
  {
   "cell_type": "code",
   "execution_count": 7,
   "id": "5f9a442b-0da4-4286-a71b-d2e937666c83",
   "metadata": {},
   "outputs": [
    {
     "name": "stdout",
     "output_type": "stream",
     "text": [
      "Prompt:\n",
      " \n",
      "从数据库中检索的相关信息:\n",
      " １　ＩｎＳＡＲ 技术与现状\n",
      " ＩｎＳＡＲ 形变观 测 值 极 有 可 能 导 致 对 地 质 灾 害 的 误判甚至错判，这已经成为限制ＩｎＳＡＲ 技术应用 和推广的主要瓶颈之一。\n",
      " ［５６］　徐小波．多手段ＩｎＳＡＲ 技术研究及其在 同 震 、震 间 形 变 监\n",
      "\n",
      "用户问：\n",
      "insar技术的用途有哪些？\n",
      "\n",
      "请用中文回答用户问题。\n",
      "\n"
     ]
    }
   ],
   "source": [
    "# 5、根据Prompt模版生成Prompt\n",
    "prompt = build_prompt(prompt_template, info=search_results, query=user_query)\n",
    "print(\"Prompt:\\n\", prompt)"
   ]
  },
  {
   "cell_type": "code",
   "execution_count": 8,
   "id": "f9f6e3ba-d67e-4626-ab77-de2278e1d9de",
   "metadata": {},
   "outputs": [
    {
     "name": "stdout",
     "output_type": "stream",
     "text": [
      "答案：\n",
      " InSAR（合成孔径雷达干涉测量）技术是一种利用雷达信号进行地表形变监测的技术。它通过比较两幅或多幅不同时间获取的雷达图像，可以测量地表微小的形变。InSAR技术的应用非常广泛，主要包括以下几个方面：\n",
      "\n",
      "1. 地震监测：InSAR技术可以监测地震前后地表的形变，帮助科学家分析地震的形变特征和断层活动。\n",
      "\n",
      "2. 地质灾害预警：通过监测滑坡、泥石流等地质灾害的形变，InSAR技术可以为灾害预警提供重要信息。\n",
      "\n",
      "3. 地表沉降监测：InSAR技术可以检测由于地下水抽取、城市建设等人为活动或自然因素导致的地表沉降。\n",
      "\n",
      "4. 地壳运动监测：InSAR技术可以测量地壳板块的运动，为地壳构造活动研究提供数据支持。\n",
      "\n",
      "5. 冰川和冰盖变化研究：InSAR技术可以监测冰川和冰盖的流动速度和厚度变化，对全球气候变化研究具有重要意义。\n",
      "\n",
      "6. 森林和植被变化监测：InSAR技术还可以用于监测森林和植被的生长状况和变化。\n",
      "\n",
      "7. 城市扩展和土地利用变化监测：InSAR技术可以监测城市化进程中土地利用的变化情况。\n",
      "\n",
      "然而，InSAR技术在形变观测值的准确性方面存在一定的局限性，有时可能导致对地质灾害的误判或错判，这已成为限制InSAR技术应用和推广的一个主要瓶颈。\n"
     ]
    }
   ],
   "source": [
    "# 6、调用大模型,参考检索结果，生成问题答案\n",
    "response = get_completion(prompt)\n",
    "print(\"答案：\\n\", response)"
   ]
  },
  {
   "cell_type": "code",
   "execution_count": null,
   "id": "e5a53b94-b8c2-4fe1-a24d-0a491bab6d7b",
   "metadata": {},
   "outputs": [],
   "source": []
  }
 ],
 "metadata": {
  "kernelspec": {
   "display_name": "Python 3 (ipykernel)",
   "language": "python",
   "name": "python3"
  },
  "language_info": {
   "codemirror_mode": {
    "name": "ipython",
    "version": 3
   },
   "file_extension": ".py",
   "mimetype": "text/x-python",
   "name": "python",
   "nbconvert_exporter": "python",
   "pygments_lexer": "ipython3",
   "version": "3.10.6"
  }
 },
 "nbformat": 4,
 "nbformat_minor": 5
}
