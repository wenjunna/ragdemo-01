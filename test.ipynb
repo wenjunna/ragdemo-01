{
 "cells": [
  {
   "cell_type": "code",
   "execution_count": 1,
   "id": "95acbd83-c069-4fda-a246-9bd07ec7f3cc",
   "metadata": {},
   "outputs": [],
   "source": [
    "from es import ES\n",
    "from read_pdf import read_pdf\n",
    "from rag import build_prompt, get_completion"
   ]
  },
  {
   "cell_type": "markdown",
   "id": "6c721919-b6ba-4190-bdfa-00a817f6f136",
   "metadata": {},
   "source": [
    "# 一、演示RAG"
   ]
  },
  {
   "cell_type": "markdown",
   "id": "b362ca0d-364b-43ef-b44f-bfbd1f17ea03",
   "metadata": {},
   "source": [
    "## 1、读取pdf"
   ]
  },
  {
   "cell_type": "code",
   "execution_count": 2,
   "id": "e0a65b90-64f2-475a-a51a-6bb88ac7816c",
   "metadata": {},
   "outputs": [],
   "source": [
    "filename = \"./data/基于LSTM和启发式搜索的遥感卫星地面站天线智能调度方法研究2020.pdf\"\n",
    "text_list = read_pdf(filepath=filename, min_line_length=10)"
   ]
  },
  {
   "cell_type": "markdown",
   "id": "c040d08b-ffab-4239-8523-27b0820ce5b9",
   "metadata": {},
   "source": [
    "## 2、新建索引"
   ]
  },
  {
   "cell_type": "code",
   "execution_count": 3,
   "id": "6620ab30-74f0-4733-9a41-7ce49f6bcaf0",
   "metadata": {},
   "outputs": [],
   "source": [
    "index_name = \"paper_db_cn\"\n",
    "es = ES(index_name=index_name)"
   ]
  },
  {
   "cell_type": "markdown",
   "id": "d7ffd2bb-a3ec-4b0e-a222-6c6d309bbe3f",
   "metadata": {},
   "source": [
    "## 3、往索引里添加数据"
   ]
  },
  {
   "cell_type": "code",
   "execution_count": 4,
   "id": "826dbe3f-9b61-4304-807e-0f89ced10e74",
   "metadata": {},
   "outputs": [
    {
     "name": "stderr",
     "output_type": "stream",
     "text": [
      "Building prefix dict from the default dictionary ...\n",
      "Loading model from cache /var/folders/37/d9g7vr4j50s4mcyf2k_04d2r0000gn/T/jieba.cache\n",
      "Loading model cost 0.596 seconds.\n",
      "Prefix dict has been built successfully.\n"
     ]
    },
    {
     "data": {
      "text/plain": [
       "(426, [])"
      ]
     },
     "execution_count": 4,
     "metadata": {},
     "output_type": "execute_result"
    }
   ],
   "source": [
    "es.add_data_to_es(text_list)"
   ]
  },
  {
   "cell_type": "markdown",
   "id": "1960a58a-563b-4816-9be1-53b82b3b71b0",
   "metadata": {},
   "source": [
    "## 4、Prompt模版"
   ]
  },
  {
   "cell_type": "code",
   "execution_count": 5,
   "id": "7e3394f4-406e-4458-b949-55aeb330eea7",
   "metadata": {},
   "outputs": [],
   "source": [
    "prompt_template = \"\"\"\n",
    "已知信息:\n",
    "__INFO__\n",
    "\n",
    "用户问：\n",
    "__QUERY__\n",
    "\n",
    "请用中文回答用户问题。\n",
    "\"\"\""
   ]
  },
  {
   "cell_type": "markdown",
   "id": "2786c036-37e4-498e-8481-928934b2f168",
   "metadata": {},
   "source": [
    "## 5、检索"
   ]
  },
  {
   "cell_type": "code",
   "execution_count": 9,
   "id": "e2b859e3-708d-49c0-97ba-dcab94da28fa",
   "metadata": {},
   "outputs": [
    {
     "name": "stdout",
     "output_type": "stream",
     "text": [
      "keywords 这篇 论文 几层 lstm\n",
      "search_res {'took': 3, 'timed_out': False, '_shards': {'total': 1, 'successful': 1, 'skipped': 0, 'failed': 0}, 'hits': {'total': {'value': 134, 'relation': 'eq'}, 'max_score': 7.6296277, 'hits': [{'_index': 'paper_db_cn', '_id': 'dAxXD5ABwin7dsBfyv4U', '_score': 7.6296277, '_ignored': ['keywords.keyword', 'text.keyword'], '_source': {'keywords': '15 precisionrecall 训练 提出 两层 单向 长短期 记忆 神经网络 结构 一层 单向 结构 双向 结构 两层 双向 结构 分析 一层 单向 结构 隐藏 一层 正向 误差 累积 一层 双向 结构 隐藏 一层 模型 正向 误差 累积 反向 误差 累积 两层 双向 结构 隐藏 层有 两层 只进 正向 误差 累积 两层 双向 结构 隐藏 层有 两层 模型 正向 误差 累积 反向 误差 累积 从表 模型 训练 测试 集上 f1 分数 top1 确率 一层 单向 结构 一层 双向 结构 两层 单向 结构 模型 结构 相对 简单 导致 学习 充分 两层 双向 结构 两层 单向 结构 相当 两层 双向 模型 结构 相对 模型 数量 两层 单向 模型 模型 训练 过程 损失 函数 变化 两层 双向 模型 拟合 现象 本文 选择 两层 单向 模型 结构 细线 代表 训练 集上 损失 函数 变化 曲线 粗线 代表 验证 集上 损失 函数 变化 曲线 从图 两层 单向 长短期 记忆 神经网络 损失 函数 变化 曲线图 模型 迭代 收敛', 'text': '…(4.15) precision\\uf02brecall 4.2.4.4 训练结果 把4.2.3.2节提出的两层单向长短期记忆神经网络结构与一层单向结构、一 层双向结构、两层双向结构进行对比分析。其中，一层单向结构，即隐藏层只 有一层，只进行正向误差累积；一层双向结构，即隐藏层只有一层，模型进行 正向误差累积，也进行反向误差累积；两层双向结构，即隐藏层有两层，只进 行正向误差累积；两层双向结构，即隐藏层有两层，模型进行正向误差累积， 也进行反向误差累积。从表4.2模型在训练集和测试集上的 F1分数和TOP1 准 确率来看，一层单向结构和一层双向结构均比两层单向结构的值低，此时由于 模型结构相对简单，导致学习不充分；两层双向结构和两层单向结构的值相当， 但是两层双向模型结构相对复杂，模型参数量是两层单向模型的 2.5 倍，且从 图4.9模型训练过程中损失函数变化来看，两层双向模型更易出现过拟合现象， 故本文选择两层单向模型结构。图 4.9 中，细线代表训练集上的损失函数变化 曲线，粗线代表验证集上的损失函数变化曲线。从图4.9(c)两层单向长短期记忆 神经网络损失函数变化曲线图可以看出，模型在第 3次迭代已经开始收敛，随'}}, {'_index': 'paper_db_cn', '_id': 'NAxXD5ABwin7dsBfyv4U', '_score': 7.6202626, '_ignored': ['keywords.keyword', 'text.keyword'], '_source': {'keywords': 'i1 嵌入 技术 嵌入 word embedding 一种 映射 实数 向量 技术 词汇表 定长 向量 特定 学习 向量 表达 之间 类比 关系 原始 文本 数据 预处理 参与 运算 数值数据 输入 网络 而词 向量 为文 数据 提供 一种 数值 方法 这是 文本 数据 计算机 基础 深度 学习 技术 文本 数据处理 前提 基础 词向 技术 独热 编码 词库 中词 数量 较多时 带来 数据 冗余 运算 效率 准确 表达 之间 词汇 数量 向量 维度 数据 预处理 时间 变化 难用 固定 接收 时间 接收 结束 时间 属性 一年 第几天 一周 第几天 八个 属性 数据 接收 务中 卫星 地面站 优先级 紧急 程度 四个 属性 一共 二十个 属性 属性 若干个 属性 统计 重复 属性 训练 数据 词库 词库 开是 整数 编码 嵌入 技术 编码 映射 实数 特定 维度 向量 数据 接收 映射 成特 维度 向量 向量 lstm 网络 时间 输入 向量 lstm 模型 训练 过程 调整 lstm 模型 训练 稳定', 'text': 'i\\uf02b1 (3) 词嵌入技术：词嵌入(word embedding)是一种把词映射为实数域向量的 技术，它将词汇表中的每一个词，表示成一个定长的向量，通过对特定任务的 学习，使得这些向量能较好地表达相似词之间的相似和类比关系。原始的文本 数据需要经过预处理成可以参与运算的数值数据才能输入网络，而词向量为文 本数据提供了一种数值化的表示方法，这是文本数据能够被计算机处理的基础， 也是深度学习技术能够应用于文本数据处理的重要前提基础。此外，使用词向 量技术还避免了独热编码在词库中词的数量较多时带来的数据冗余、运算效率 低，无法准确表达不同词之间的相似度等问题。图4.4是词汇数量为n，词向量 维度为K的表示。在数据预处理时，由于时间是不断变化的，很难用固定的量 来表示，因此把接收开始时间和接收结束时间属性分别拆成年、月、日、时、 分、秒、一年中的第几天、一周中的第几天八个属性列，除此之外数据接收任 务中还有卫星、地面站、任务优先级、任务紧急程度这四个属性，一共二十个 属性，每个属性均有若干个属性值，统计所有不重复出现的属性值，作为训练 数据集的词库。对词库中的词从 0 开是进行整数编码，再使用词嵌入技术，把 每个编码映射为实数域特定维度的词向量，相应的每个数据接收任务映射成特 定维度的任务向量，此向量作为LSTM网络每个时间步的输入。每个词对应的 词向量，在LSTM模型训练过程中会不断调整，当LSTM模型训练稳定时，词'}}, {'_index': 'paper_db_cn', '_id': 'WQxXD5ABwin7dsBfyv4U', '_score': 7.355693, '_ignored': ['keywords.keyword', 'text.keyword'], '_source': {'keywords': '26 lstm 启发式 搜索 遥感 卫星 地面站 天线 智能 调度 方法 研究 lstm 模型 结构图 10 figure4 thestructureoflstmclassificationmodel 模型 训练 论文 lstm 模型 运行 环境 python3 深度 学习 框架 pytorch0 模型 训练 过程 采用 bptt 算法 算法 分为 步骤 时间 序列 正向 计算 时间 输出 交叉 损失 函数 计算 时间 误差 函数 时间 网络 层级 两个 方向 误差 反向 传播 时间 误差 数值 计算 权重 梯度 带动 随机 梯度 下降 法来 优化 损失', 'text': '26 基于LSTM和启发式搜索的遥感卫星地面站天线智能调度方法研究 图4.7 LSTM模型结构图10 Figure4.7 ThestructureofLSTMclassificationmodel 4.2.4. 模型训练 论文中LSTM模型运行环境为 Python3.6，深度学习框架Pytorch0.4。模型 训练过程采用 BPTT 算法，该算法分为 4个步骤：①在时间序列上正向计算每 个时间步的输出值；②使用交叉熵损失函数计算每个时间步的误差函数值，并 沿着时间和网络层级两个方向进行误差反向传播；③根据每个时间步的误差函 数值，计算每个权重的梯度值；④应用带动量的随机梯度下降法来优化损失函'}}]}}\n"
     ]
    }
   ],
   "source": [
    "user_query = \"这篇论文中使用的是几层的LSTM？\"\n",
    "search_results = es.search(user_query, 3)"
   ]
  },
  {
   "cell_type": "markdown",
   "id": "fe4b79f3-1281-443c-90b6-fa69bd73d843",
   "metadata": {},
   "source": [
    "## 6、根据Prompt模版生成Prompt"
   ]
  },
  {
   "cell_type": "code",
   "execution_count": 10,
   "id": "5f9a442b-0da4-4286-a71b-d2e937666c83",
   "metadata": {},
   "outputs": [
    {
     "name": "stdout",
     "output_type": "stream",
     "text": [
      "Prompt:\n",
      " \n",
      "已知信息:\n",
      "…(4.15) precisionrecall 4.2.4.4 训练结果 把4.2.3.2节提出的两层单向长短期记忆神经网络结构与一层单向结构、一 层双向结构、两层双向结构进行对比分析。其中，一层单向结构，即隐藏层只 有一层，只进行正向误差累积；一层双向结构，即隐藏层只有一层，模型进行 正向误差累积，也进行反向误差累积；两层双向结构，即隐藏层有两层，只进 行正向误差累积；两层双向结构，即隐藏层有两层，模型进行正向误差累积， 也进行反向误差累积。从表4.2模型在训练集和测试集上的 F1分数和TOP1 准 确率来看，一层单向结构和一层双向结构均比两层单向结构的值低，此时由于 模型结构相对简单，导致学习不充分；两层双向结构和两层单向结构的值相当， 但是两层双向模型结构相对复杂，模型参数量是两层单向模型的 2.5 倍，且从 图4.9模型训练过程中损失函数变化来看，两层双向模型更易出现过拟合现象， 故本文选择两层单向模型结构。图 4.9 中，细线代表训练集上的损失函数变化 曲线，粗线代表验证集上的损失函数变化曲线。从图4.9(c)两层单向长短期记忆 神经网络损失函数变化曲线图可以看出，模型在第 3次迭代已经开始收敛，随\n",
      "i1 (3) 词嵌入技术：词嵌入(word embedding)是一种把词映射为实数域向量的 技术，它将词汇表中的每一个词，表示成一个定长的向量，通过对特定任务的 学习，使得这些向量能较好地表达相似词之间的相似和类比关系。原始的文本 数据需要经过预处理成可以参与运算的数值数据才能输入网络，而词向量为文 本数据提供了一种数值化的表示方法，这是文本数据能够被计算机处理的基础， 也是深度学习技术能够应用于文本数据处理的重要前提基础。此外，使用词向 量技术还避免了独热编码在词库中词的数量较多时带来的数据冗余、运算效率 低，无法准确表达不同词之间的相似度等问题。图4.4是词汇数量为n，词向量 维度为K的表示。在数据预处理时，由于时间是不断变化的，很难用固定的量 来表示，因此把接收开始时间和接收结束时间属性分别拆成年、月、日、时、 分、秒、一年中的第几天、一周中的第几天八个属性列，除此之外数据接收任 务中还有卫星、地面站、任务优先级、任务紧急程度这四个属性，一共二十个 属性，每个属性均有若干个属性值，统计所有不重复出现的属性值，作为训练 数据集的词库。对词库中的词从 0 开是进行整数编码，再使用词嵌入技术，把 每个编码映射为实数域特定维度的词向量，相应的每个数据接收任务映射成特 定维度的任务向量，此向量作为LSTM网络每个时间步的输入。每个词对应的 词向量，在LSTM模型训练过程中会不断调整，当LSTM模型训练稳定时，词\n",
      "26 基于LSTM和启发式搜索的遥感卫星地面站天线智能调度方法研究 图4.7 LSTM模型结构图10 Figure4.7 ThestructureofLSTMclassificationmodel 4.2.4. 模型训练 论文中LSTM模型运行环境为 Python3.6，深度学习框架Pytorch0.4。模型 训练过程采用 BPTT 算法，该算法分为 4个步骤：①在时间序列上正向计算每 个时间步的输出值；②使用交叉熵损失函数计算每个时间步的误差函数值，并 沿着时间和网络层级两个方向进行误差反向传播；③根据每个时间步的误差函 数值，计算每个权重的梯度值；④应用带动量的随机梯度下降法来优化损失函\n",
      "\n",
      "用户问：\n",
      "这篇论文中使用的是几层的LSTM？\n",
      "\n",
      "请用中文回答用户问题。\n",
      "\n"
     ]
    }
   ],
   "source": [
    "prompt = build_prompt(prompt_template, info=search_results, query=user_query)\n",
    "print(\"Prompt:\\n\", prompt)"
   ]
  },
  {
   "cell_type": "markdown",
   "id": "c578e9df-a8c7-4b53-bd55-5e61fa10d7b0",
   "metadata": {},
   "source": [
    "## 7、调用大模型,参考检索结果，生成问题答案"
   ]
  },
  {
   "cell_type": "code",
   "execution_count": 11,
   "id": "f9f6e3ba-d67e-4626-ab77-de2278e1d9de",
   "metadata": {},
   "outputs": [
    {
     "name": "stdout",
     "output_type": "stream",
     "text": [
      "答案：\n",
      " 这篇论文中使用的是两层的LSTM。\n"
     ]
    }
   ],
   "source": [
    "response = get_completion(prompt)\n",
    "print(\"答案：\\n\", response)"
   ]
  },
  {
   "cell_type": "markdown",
   "id": "199252b2-ad41-44ca-b4be-c171722c29e4",
   "metadata": {},
   "source": [
    "# 二、使用RAG,提问和我上传的这篇论文无关的问题"
   ]
  },
  {
   "cell_type": "code",
   "execution_count": 16,
   "id": "62adf2d3-1ef0-4960-9722-bef6aafc8d57",
   "metadata": {},
   "outputs": [
    {
     "name": "stdout",
     "output_type": "stream",
     "text": [
      "keywords insar 技术 用途\n",
      "search_res {'took': 1, 'timed_out': False, '_shards': {'total': 1, 'successful': 1, 'skipped': 0, 'failed': 0}, 'hits': {'total': {'value': 51, 'relation': 'eq'}, 'max_score': 9.708781, 'hits': [{'_index': 'paper_db_cn', '_id': 'NAxXD5ABwin7dsBfyv4U', '_score': 9.708781, '_ignored': ['keywords.keyword', 'text.keyword'], '_source': {'keywords': 'i1 嵌入 技术 嵌入 word embedding 一种 映射 实数 向量 技术 词汇表 定长 向量 特定 学习 向量 表达 之间 类比 关系 原始 文本 数据 预处理 参与 运算 数值数据 输入 网络 而词 向量 为文 数据 提供 一种 数值 方法 这是 文本 数据 计算机 基础 深度 学习 技术 文本 数据处理 前提 基础 词向 技术 独热 编码 词库 中词 数量 较多时 带来 数据 冗余 运算 效率 准确 表达 之间 词汇 数量 向量 维度 数据 预处理 时间 变化 难用 固定 接收 时间 接收 结束 时间 属性 一年 第几天 一周 第几天 八个 属性 数据 接收 务中 卫星 地面站 优先级 紧急 程度 四个 属性 一共 二十个 属性 属性 若干个 属性 统计 重复 属性 训练 数据 词库 词库 开是 整数 编码 嵌入 技术 编码 映射 实数 特定 维度 向量 数据 接收 映射 成特 维度 向量 向量 lstm 网络 时间 输入 向量 lstm 模型 训练 过程 调整 lstm 模型 训练 稳定', 'text': 'i\\uf02b1 (3) 词嵌入技术：词嵌入(word embedding)是一种把词映射为实数域向量的 技术，它将词汇表中的每一个词，表示成一个定长的向量，通过对特定任务的 学习，使得这些向量能较好地表达相似词之间的相似和类比关系。原始的文本 数据需要经过预处理成可以参与运算的数值数据才能输入网络，而词向量为文 本数据提供了一种数值化的表示方法，这是文本数据能够被计算机处理的基础， 也是深度学习技术能够应用于文本数据处理的重要前提基础。此外，使用词向 量技术还避免了独热编码在词库中词的数量较多时带来的数据冗余、运算效率 低，无法准确表达不同词之间的相似度等问题。图4.4是词汇数量为n，词向量 维度为K的表示。在数据预处理时，由于时间是不断变化的，很难用固定的量 来表示，因此把接收开始时间和接收结束时间属性分别拆成年、月、日、时、 分、秒、一年中的第几天、一周中的第几天八个属性列，除此之外数据接收任 务中还有卫星、地面站、任务优先级、任务紧急程度这四个属性，一共二十个 属性，每个属性均有若干个属性值，统计所有不重复出现的属性值，作为训练 数据集的词库。对词库中的词从 0 开是进行整数编码，再使用词嵌入技术，把 每个编码映射为实数域特定维度的词向量，相应的每个数据接收任务映射成特 定维度的任务向量，此向量作为LSTM网络每个时间步的输入。每个词对应的 词向量，在LSTM模型训练过程中会不断调整，当LSTM模型训练稳定时，词'}}, {'_index': 'paper_db_cn', '_id': 'QAxXD5ABwin7dsBfyv8U', '_score': 8.539028, '_source': {'keywords': '资源 调度 2011 09 2015 07 上海师范大学 地理系 学士学位 2015 12 2016 09 就职 上海 飞未 信息技术 有限公司 担任 webgis', 'text': '站资源调度。 2011年09月-2015年07月，在上海师范大学地理系获得学士学位。 2015年12月-2016年09月，就职于上海飞未信息技术有限公司，担任WebGIS'}}, {'_index': 'paper_db_cn', '_id': 'LQxXD5ABwin7dsBfyv4U', '_score': 7.875903, '_ignored': ['text.keyword'], '_source': {'keywords': '数据项 含义 卫星 名称 gf 地面 接收站 syc 接收 时间 2019 09 1314 56 51 接收 结束 时间 2019 09 1315 04 53 紧急 程度 优先级 天线 sy12 数据 预处理 深度 学习 模型 训练 过程 数据 大小 质量 影响 模型 训练 模型 效果 模型 训练 做好 数据 预处理 工作 至关重要 论文 三个 数据 预处理 技术 数据 缺失 嵌入 技术 训练 集和验 证集 划分 方法 数据 预处理 流程 如图 所示', 'text': '数据项 含义 值 1 卫星名称 GF-5 2 地面接收站 SYC 3 接收开始时间 2019-09-1314:56:51 4 接收结束时间 2019-09-1315:04:53 5 任务紧急程度 一般 6 任务优先级 0.5 7 天线 SY12_4 4.2.2 数据预处理 深度学习模型训练过程中，数据集的大小和质量直接影响模型的训练以及 模型效果，因此在模型训练之前，做好数据预处理工作至关重要。论文中主要 使用了三个数据预处理技术，分别为数据缺失处理、词嵌入技术、训练集和验 证集的划分方法，数据预处理流程如图4.3所示。'}}]}}\n"
     ]
    }
   ],
   "source": [
    "user_query = \"InSAR技术都有哪些用途？\"\n",
    "search_results = es.search(user_query, 3)"
   ]
  },
  {
   "cell_type": "code",
   "execution_count": 17,
   "id": "902c68d3-ad48-455a-b959-3a6afbde64b3",
   "metadata": {},
   "outputs": [
    {
     "name": "stdout",
     "output_type": "stream",
     "text": [
      "Prompt:\n",
      " \n",
      "已知信息:\n",
      "i1 (3) 词嵌入技术：词嵌入(word embedding)是一种把词映射为实数域向量的 技术，它将词汇表中的每一个词，表示成一个定长的向量，通过对特定任务的 学习，使得这些向量能较好地表达相似词之间的相似和类比关系。原始的文本 数据需要经过预处理成可以参与运算的数值数据才能输入网络，而词向量为文 本数据提供了一种数值化的表示方法，这是文本数据能够被计算机处理的基础， 也是深度学习技术能够应用于文本数据处理的重要前提基础。此外，使用词向 量技术还避免了独热编码在词库中词的数量较多时带来的数据冗余、运算效率 低，无法准确表达不同词之间的相似度等问题。图4.4是词汇数量为n，词向量 维度为K的表示。在数据预处理时，由于时间是不断变化的，很难用固定的量 来表示，因此把接收开始时间和接收结束时间属性分别拆成年、月、日、时、 分、秒、一年中的第几天、一周中的第几天八个属性列，除此之外数据接收任 务中还有卫星、地面站、任务优先级、任务紧急程度这四个属性，一共二十个 属性，每个属性均有若干个属性值，统计所有不重复出现的属性值，作为训练 数据集的词库。对词库中的词从 0 开是进行整数编码，再使用词嵌入技术，把 每个编码映射为实数域特定维度的词向量，相应的每个数据接收任务映射成特 定维度的任务向量，此向量作为LSTM网络每个时间步的输入。每个词对应的 词向量，在LSTM模型训练过程中会不断调整，当LSTM模型训练稳定时，词\n",
      "站资源调度。 2011年09月-2015年07月，在上海师范大学地理系获得学士学位。 2015年12月-2016年09月，就职于上海飞未信息技术有限公司，担任WebGIS\n",
      "数据项 含义 值 1 卫星名称 GF-5 2 地面接收站 SYC 3 接收开始时间 2019-09-1314:56:51 4 接收结束时间 2019-09-1315:04:53 5 任务紧急程度 一般 6 任务优先级 0.5 7 天线 SY12_4 4.2.2 数据预处理 深度学习模型训练过程中，数据集的大小和质量直接影响模型的训练以及 模型效果，因此在模型训练之前，做好数据预处理工作至关重要。论文中主要 使用了三个数据预处理技术，分别为数据缺失处理、词嵌入技术、训练集和验 证集的划分方法，数据预处理流程如图4.3所示。\n",
      "\n",
      "用户问：\n",
      "InSAR技术都有哪些用途？\n",
      "\n",
      "请用中文回答用户问题。\n",
      "\n"
     ]
    }
   ],
   "source": [
    "prompt = build_prompt(prompt_template, info=search_results, query=user_query)\n",
    "print(\"Prompt:\\n\", prompt)"
   ]
  },
  {
   "cell_type": "code",
   "execution_count": 18,
   "id": "e356b503-29f4-4821-802e-9bee6c4abc56",
   "metadata": {},
   "outputs": [
    {
     "name": "stdout",
     "output_type": "stream",
     "text": [
      "答案：\n",
      " 我无法回答您的问题。\n"
     ]
    }
   ],
   "source": [
    "response = get_completion(prompt)\n",
    "print(\"答案：\\n\", response)"
   ]
  },
  {
   "cell_type": "markdown",
   "id": "de771dc9-450b-4f1a-8a1d-23c4a5ed9fe6",
   "metadata": {},
   "source": [
    "# 三、不是用RAG，提问和这篇论文相关的问题"
   ]
  },
  {
   "cell_type": "code",
   "execution_count": 19,
   "id": "05098ce8-4c46-42f6-8493-fde9a52d9357",
   "metadata": {},
   "outputs": [],
   "source": [
    "prompt_template = \"\"\"\n",
    "已知信息:\n",
    "__INFO__\n",
    "\n",
    "用户问：\n",
    "__QUERY__\n",
    "\n",
    "请用中文回答用户问题。\n",
    "\"\"\""
   ]
  },
  {
   "cell_type": "code",
   "execution_count": 20,
   "id": "8c82133a-c070-4766-b34c-906eb3d82a22",
   "metadata": {},
   "outputs": [],
   "source": [
    "user_query = \"这篇论文中使用的是几层的LSTM？\"\n",
    "# search_results = es.search(user_query, 3)"
   ]
  },
  {
   "cell_type": "code",
   "execution_count": 21,
   "id": "add2a28a-cbf1-4666-b368-28d73463d7e7",
   "metadata": {},
   "outputs": [
    {
     "name": "stdout",
     "output_type": "stream",
     "text": [
      "Prompt:\n",
      " \n",
      "已知信息:\n",
      "__INFO__\n",
      "\n",
      "用户问：\n",
      "这篇论文中使用的是几层的LSTM？\n",
      "\n",
      "请用中文回答用户问题。\n",
      "\n"
     ]
    }
   ],
   "source": [
    "prompt = build_prompt(prompt_template, query=user_query)\n",
    "print(\"Prompt:\\n\", prompt)"
   ]
  },
  {
   "cell_type": "code",
   "execution_count": 22,
   "id": "3ee175e4-3e9a-400b-a3b6-2916a19ceaed",
   "metadata": {},
   "outputs": [
    {
     "name": "stdout",
     "output_type": "stream",
     "text": [
      "答案：\n",
      " 我无法回答您的问题。\n"
     ]
    }
   ],
   "source": [
    "response = get_completion(prompt)\n",
    "print(\"答案：\\n\", response)"
   ]
  },
  {
   "cell_type": "code",
   "execution_count": null,
   "id": "a8416732-3cec-4cc9-a6bf-8fe33161bbc3",
   "metadata": {},
   "outputs": [],
   "source": []
  }
 ],
 "metadata": {
  "kernelspec": {
   "display_name": "Python 3 (ipykernel)",
   "language": "python",
   "name": "python3"
  },
  "language_info": {
   "codemirror_mode": {
    "name": "ipython",
    "version": 3
   },
   "file_extension": ".py",
   "mimetype": "text/x-python",
   "name": "python",
   "nbconvert_exporter": "python",
   "pygments_lexer": "ipython3",
   "version": "3.10.6"
  }
 },
 "nbformat": 4,
 "nbformat_minor": 5
}
